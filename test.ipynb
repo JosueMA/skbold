{
 "cells": [
  {
   "cell_type": "markdown",
   "metadata": {
    "collapsed": true
   },
   "source": [
    "# Testing notebook for scikit-BOLD code\n",
    "This notebook offers some code to test the functionality of the scikit-BOLD repository."
   ]
  },
  {
   "cell_type": "code",
   "execution_count": 1,
   "metadata": {
    "collapsed": false
   },
   "outputs": [],
   "source": [
    "import os\n",
    "import pickle\n",
    "import h5py\n",
    "import glob\n",
    "import numpy as np\n",
    "import shutil\n",
    "import pandas as pd\n",
    "from os.path import join as opj\n",
    "from sklearn.preprocessing import LabelEncoder\n",
    "from transformers import ClusterThreshold\n",
    "from data2mvpa import glm2mvpa, load_mvp_object\n",
    "\n",
    "from sklearn.grid_search import GridSearchCV\n",
    "from sklearn.svm import SVC\n",
    "from sklearn.pipeline import Pipeline\n",
    "from sklearn.cross_validation import StratifiedKFold\n",
    "from sklearn.cross_validation import train_test_split\n",
    "from sklearn.utils.estimator_checks import check_estimator"
   ]
  },
  {
   "cell_type": "code",
   "execution_count": null,
   "metadata": {
    "collapsed": false
   },
   "outputs": [],
   "source": [
    "from transformers import ClusterThreshold\n",
    "from transformers import AnovaCutoff\n",
    "from transformers import AverageRegionTransformer"
   ]
  },
  {
   "cell_type": "markdown",
   "metadata": {},
   "source": [
    "### Converting first-level GLM to scikit-learn compatible format"
   ]
  },
  {
   "cell_type": "code",
   "execution_count": null,
   "metadata": {
    "collapsed": false
   },
   "outputs": [],
   "source": [
    "test_dirs = glob.glob('/home/lukas/DecodingEmotions/*/*.feat')\n",
    "_ = [shutil.rmtree(d) for d in [os.path.dirname(tdir) + '/mvp_data' for tdir in test_dirs] if os.path.exists(d)]\n",
    "\n",
    "mask = '/home/lukas/Dropbox/PhD_projects/DynamicAffect_Multiscale/ROIs/GrayMatter.nii.gz'\n",
    "_ = [glm2mvpa(test_dir, mask=mask, beta2tstat=False) for test_dir in test_dirs]"
   ]
  },
  {
   "cell_type": "markdown",
   "metadata": {},
   "source": [
    "### Testing pipelines\n",
    "First, we'll load in the data."
   ]
  },
  {
   "cell_type": "code",
   "execution_count": 7,
   "metadata": {
    "collapsed": false
   },
   "outputs": [],
   "source": [
    "mvp_dir = '/home/lukas/DecodingEmotions/HWW_002/mvp_data'\n",
    "mvp = load_mvp_object(mvp_dir, identifier='merged')\n",
    "mvp.y = LabelEncoder().fit_transform(mvp.class_labels)\n",
    "\n",
    "X_train, X_test, y_train, y_test = train_test_split(mvp.X, mvp.y, test_size=0.1, random_state=42)"
   ]
  },
  {
   "cell_type": "markdown",
   "metadata": {},
   "source": [
    "#### Actual testing\n",
    "\n",
    "To do:\n",
    "- do a variancethreshold before f_classif"
   ]
  },
  {
   "cell_type": "code",
   "execution_count": null,
   "metadata": {
    "collapsed": false
   },
   "outputs": [],
   "source": [
    "clf = SVC(kernel='linear', C=1)\n",
    "cluster = ClusterThreshold(mvp.mask_shape, mvp.mask_index, cutoff=1, min_cluster_size=20)\n",
    "\n",
    "pipeline = Pipeline([('clustering', cluster), ('classifier', clf)])\n",
    "\n",
    "parameters = dict(clustering__cutoff=[1, 1.25, 1.5, 1.75, 2, 2.25, 2.5], \n",
    "                  clustering__min_cluster_size=[10, 20, 30, 40, 50, 60, 70, 80, 90, 100],\n",
    "                  classifier__C=[0.001, 0.01, 0.1, 1, 10, 100],\n",
    "                  classifier__kernel=['linear', 'rbf'])\n",
    "\n",
    "cv = GridSearchCV(pipeline, param_grid=parameters, n_jobs=-1)\n",
    "cv.fit(X_train, y_train)"
   ]
  },
  {
   "cell_type": "code",
   "execution_count": null,
   "metadata": {
    "collapsed": false
   },
   "outputs": [],
   "source": [
    "print(cv.best_params_)"
   ]
  }
 ],
 "metadata": {
  "kernelspec": {
   "display_name": "Python 3",
   "language": "python",
   "name": "python3"
  },
  "language_info": {
   "codemirror_mode": {
    "name": "ipython",
    "version": 3
   },
   "file_extension": ".py",
   "mimetype": "text/x-python",
   "name": "python",
   "nbconvert_exporter": "python",
   "pygments_lexer": "ipython3",
   "version": "3.5.1"
  }
 },
 "nbformat": 4,
 "nbformat_minor": 0
}
