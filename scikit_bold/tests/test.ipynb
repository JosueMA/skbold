{
 "cells": [
  {
   "cell_type": "markdown",
   "metadata": {
    "collapsed": true
   },
   "source": [
    "# Testing notebook for scikit-BOLD code\n",
    "This notebook offers some code to test the functionality of the scikit-BOLD repository."
   ]
  },
  {
   "cell_type": "code",
   "execution_count": 3,
   "metadata": {
    "collapsed": false
   },
   "outputs": [],
   "source": [
    "from __future__ import print_function, division, absolute_import\n",
    "import numpy as np\n",
    "import nibabel as nib\n",
    "import glob\n",
    "import os\n",
    "import scikit_bold.data2mvp.glm2mvp as glm\n",
    "import scikit_bold.transformers.transformers as trans\n",
    "import scikit_bold.utils.mvp_utils as utils\n",
    "from scikit_bold.utils.mvp_utils import MvpResults\n",
    "import glob\n",
    "import os\n",
    "import warnings\n",
    "import numpy as np\n",
    "from os.path import join as opj\n",
    "from sklearn.preprocessing import LabelEncoder, StandardScaler\n",
    "from sklearn.cross_validation import StratifiedShuffleSplit\n",
    "from sklearn.svm import SVC\n",
    "from sklearn.grid_search import GridSearchCV\n",
    "from sklearn.pipeline import Pipeline\n",
    "from scikit_bold.data2mvp.glm2mvp import Fsl2mvp\n",
    "from scikit_bold.utils.mvp_utils import MvpResults, MvpAverageResults, DataHandler\n",
    "from scikit_bold.transformers.transformers import *\n",
    "\n",
    "home_dir = '/home/lukas/Dropbox/PhD_projects/scikit-bold/scikit_bold/'"
   ]
  },
  {
   "cell_type": "markdown",
   "metadata": {},
   "source": [
    "### Converting first-level GLM to scikit-learn compatible format"
   ]
  },
  {
   "cell_type": "code",
   "execution_count": null,
   "metadata": {
    "collapsed": false
   },
   "outputs": [],
   "source": [
    "testdirs = glob.glob(os.path.join(home_dir, 'tests', 'HWW_00?', '*.feat'))\n",
    "mask = '/home/lukas/Dropbox/PhD_projects/DynamicAffect_Multiscale/ROIs/GrayMatter.nii.gz'\n",
    "\n",
    "for d in testdirs:\n",
    "    test = glm.Fsl2mvp(d, mask_threshold=10, beta2tstat=True, ref_space='epi', mask_path=mask, remove_class=[])\n",
    "    test.glm2mvp_and_merge()"
   ]
  },
  {
   "cell_type": "markdown",
   "metadata": {},
   "source": [
    "### Testing pipelines\n",
    "First, we'll load in the data."
   ]
  },
  {
   "cell_type": "code",
   "execution_count": 21,
   "metadata": {
    "collapsed": false
   },
   "outputs": [
    {
     "name": "stdout",
     "output_type": "stream",
     "text": [
      "\n",
      "Processing HWW_003\n",
      "Accuracy over iterations: 0.896552\n"
     ]
    },
    {
     "ename": "AttributeError",
     "evalue": "'NoneType' object has no attribute 'write_results'",
     "output_type": "error",
     "traceback": [
      "\u001b[1;31m---------------------------------------------------------------------------\u001b[0m",
      "\u001b[1;31mAttributeError\u001b[0m                            Traceback (most recent call last)",
      "\u001b[1;32m<ipython-input-21-9d1e75ba890b>\u001b[0m in \u001b[0;36m<module>\u001b[1;34m()\u001b[0m\n\u001b[0;32m     46\u001b[0m \u001b[1;33m\u001b[0m\u001b[0m\n\u001b[0;32m     47\u001b[0m     \u001b[1;31m# Compute average performance and write results (.csv)\u001b[0m\u001b[1;33m\u001b[0m\u001b[1;33m\u001b[0m\u001b[0m\n\u001b[1;32m---> 48\u001b[1;33m     \u001b[0mresults\u001b[0m\u001b[1;33m.\u001b[0m\u001b[0mcompute_score\u001b[0m\u001b[1;33m(\u001b[0m\u001b[1;33m)\u001b[0m\u001b[1;33m.\u001b[0m\u001b[0mwrite_results\u001b[0m\u001b[1;33m(\u001b[0m\u001b[0mproject_dir\u001b[0m\u001b[1;33m,\u001b[0m \u001b[0mconvert2mni\u001b[0m\u001b[1;33m=\u001b[0m\u001b[0mTrue\u001b[0m\u001b[1;33m)\u001b[0m\u001b[1;33m\u001b[0m\u001b[0m\n\u001b[0m\u001b[0;32m     49\u001b[0m \u001b[1;33m\u001b[0m\u001b[0m\n\u001b[0;32m     50\u001b[0m \u001b[1;31m# Initialize 'averager' and write results\u001b[0m\u001b[1;33m\u001b[0m\u001b[1;33m\u001b[0m\u001b[0m\n",
      "\u001b[1;31mAttributeError\u001b[0m: 'NoneType' object has no attribute 'write_results'"
     ]
    }
   ],
   "source": [
    "project_dir = '/home/lukas/Dropbox/PhD_projects/scikit-bold/scikit_bold/tests/'\n",
    "\n",
    "# Turn-off UserWarning to avoid clutter (occurs in univariate feature selection)\n",
    "warnings.filterwarnings('ignore', category=UserWarning)\n",
    "warnings.filterwarnings('ignore', category=DeprecationWarning)\n",
    "\n",
    "#  Definition of data-dirs\n",
    "paths = glob.glob(os.path.join(project_dir, 'HWW_00?'))\n",
    "\n",
    "### Analysis parameters ###\n",
    "iterations = 10\n",
    "n_test = 1\n",
    "zvalue = 2.5\n",
    "score_method = 'voting'\n",
    "\n",
    "scaler = StandardScaler()\n",
    "transformer = MeanEuclidean(cutoff=zvalue, normalize=True)\n",
    "clf = SVC(kernel='linear', probability=True)\n",
    "pipeline = Pipeline([('euclidean', transformer), ('scaler', scaler), ('classifier', clf)])\n",
    "gs_params = dict(euclidean__cutoff=np.linspace(1.5, 2.3, 3))\n",
    "pipeline = GridSearchCV(pipeline, param_grid=gs_params, n_jobs=-1)\n",
    "\n",
    "### Loop over subjects ###\n",
    "for i in range(len(paths)):\n",
    "\n",
    "    sub_name = os.path.basename(paths[i])\n",
    "    print('\\nProcessing %s' % sub_name)\n",
    "\n",
    "    # Loading\n",
    "    data = utils.DataHandler(identifier='merged').load_separate_sub(paths[i])\n",
    "    data.n_class = np.unique(data.y).size\n",
    "    folds = StratifiedShuffleSplit(data.y, n_iter=iterations,\n",
    "                                        test_size=n_test * data.n_class)\n",
    "\n",
    "    results = MvpResults(data, iterations, method=score_method, feature_scoring='accuracy')\n",
    "\n",
    "    for j, folds in enumerate(folds):\n",
    "\n",
    "        train_idx, test_idx = folds\n",
    "        X_train, X_test = data.X[train_idx, :], data.X[test_idx, :]\n",
    "        y_train, y_test = data.y[train_idx], data.y[test_idx]\n",
    "        \n",
    "        pipeline.fit(X_train, y_train)\n",
    "        y_pred = pipeline.predict_proba(X_test)\n",
    "        results.update_results(test_idx=test_idx, y_pred=y_pred)\n",
    "        \n",
    "    # Compute average performance and write results (.csv)\n",
    "    results.compute_score().write_results(project_dir, convert2mni=True)\n",
    "    \n",
    "# Initialize 'averager' and write results\n",
    "averager = MvpAverageResults(project_dir, '', params=None, cleanup=False)\n",
    "averager.average()\n",
    "\n",
    "print('Analysis finished.')\n",
    "\n",
    "\"\"\" END OF ANALYSIS \"\"\"\n"
   ]
  },
  {
   "cell_type": "code",
   "execution_count": 24,
   "metadata": {
    "collapsed": false
   },
   "outputs": [
    {
     "data": {
      "text/plain": [
       "True"
      ]
     },
     "execution_count": 24,
     "metadata": {},
     "output_type": "execute_result"
    }
   ],
   "source": []
  }
 ],
 "metadata": {
  "kernelspec": {
   "display_name": "Python 2",
   "language": "python",
   "name": "python2"
  },
  "language_info": {
   "codemirror_mode": {
    "name": "ipython",
    "version": 2
   },
   "file_extension": ".py",
   "mimetype": "text/x-python",
   "name": "python",
   "nbconvert_exporter": "python",
   "pygments_lexer": "ipython2",
   "version": "2.7.11"
  }
 },
 "nbformat": 4,
 "nbformat_minor": 0
}
