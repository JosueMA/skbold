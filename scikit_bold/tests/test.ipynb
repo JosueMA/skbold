{
 "cells": [
  {
   "cell_type": "markdown",
   "metadata": {
    "collapsed": true
   },
   "source": [
    "# Testing notebook for scikit-BOLD code\n",
    "This notebook offers some code to test the functionality of the scikit-BOLD repository."
   ]
  },
  {
   "cell_type": "code",
   "execution_count": 1,
   "metadata": {
    "collapsed": false
   },
   "outputs": [],
   "source": [
    "from __future__ import print_function, division, absolute_import\n",
    "import os\n",
    "import pickle\n",
    "import h5py\n",
    "import glob\n",
    "import numpy as np\n",
    "import shutil\n",
    "import pandas as pd\n",
    "from os.path import join as opj\n",
    "from sklearn.preprocessing import LabelEncoder\n",
    "\n",
    "import sys\n",
    "sys.path.append('/home/lukas/Dropbox/PhD_projects/scikit-bold')\n",
    "from scikit_bold.transformers.transformers import *\n",
    "from scikit_bold.data2mvp.glm2mvp import DataHandler, Subject\n",
    "\n",
    "from sklearn.grid_search import GridSearchCV\n",
    "from sklearn.svm import SVC\n",
    "from sklearn.pipeline import Pipeline\n",
    "from sklearn.cross_validation import StratifiedKFold\n",
    "from sklearn.cross_validation import train_test_split\n",
    "from sklearn.utils.estimator_checks import check_estimator"
   ]
  },
  {
   "cell_type": "markdown",
   "metadata": {},
   "source": [
    "### Converting first-level GLM to scikit-learn compatible format"
   ]
  },
  {
   "cell_type": "code",
   "execution_count": 5,
   "metadata": {
    "collapsed": false
   },
   "outputs": [
    {
     "name": "stdout",
     "output_type": "stream",
     "text": [
      "Processing HWW_009 (run 1 / 2)... done.\n",
      "Processing HWW_009 (run 2 / 2)... done.\n",
      "Merging runs for HWW_009\n",
      "Processing HWW_002 (run 1 / 2)... done.\n",
      "Processing HWW_002 (run 2 / 2)... done.\n",
      "Merging runs for HWW_002\n",
      "Processing HWW_004 (run 1 / 2)... done.\n",
      "Processing HWW_004 (run 2 / 2)... done.\n",
      "Merging runs for HWW_004\n",
      "Processing HWW_011 (run 1 / 2)... done.\n",
      "Processing HWW_011 (run 2 / 2)... done.\n",
      "Merging runs for HWW_011\n",
      "Processing HWW_007 (run 1 / 2)... done.\n",
      "Processing HWW_007 (run 2 / 2)... done.\n",
      "Merging runs for HWW_007\n",
      "Processing HWW_013 (run 1 / 2)... done.\n",
      "Processing HWW_013 (run 2 / 2)... done.\n",
      "Merging runs for HWW_013\n",
      "Processing HWW_012 (run 1 / 2)... done.\n",
      "Processing HWW_012 (run 2 / 2)... done.\n",
      "Merging runs for HWW_012\n",
      "Processing HWW_008 (run 1 / 2)... done.\n",
      "Processing HWW_008 (run 2 / 2)... done.\n",
      "Merging runs for HWW_008\n",
      "Processing HWW_005 (run 1 / 2)... done.\n",
      "Processing HWW_005 (run 2 / 2)... done.\n",
      "Merging runs for HWW_005\n",
      "Processing HWW_003 (run 1 / 2)... done.\n",
      "Processing HWW_003 (run 2 / 2)... done.\n",
      "Merging runs for HWW_003\n",
      "Processing HWW_006 (run 1 / 2)... done.\n",
      "Processing HWW_006 (run 2 / 2)... done.\n",
      "Merging runs for HWW_006\n",
      "Processing HWW_010 (run 1 / 2)... done.\n",
      "Processing HWW_010 (run 2 / 2)... done.\n",
      "Merging runs for HWW_010\n",
      "Processing HWW_009 (run 1 / 1)... done.\n",
      "Processing HWW_002 (run 1 / 1)... done.\n",
      "Processing HWW_004 (run 1 / 1)... done.\n",
      "Processing HWW_011 (run 1 / 1)... done.\n",
      "Processing HWW_007 (run 1 / 1)... done.\n",
      "Processing HWW_013 (run 1 / 1)... done.\n",
      "Processing HWW_012 (run 1 / 1)... done.\n",
      "Processing HWW_008 (run 1 / 1)... done.\n",
      "Processing HWW_005 (run 1 / 1)... done.\n",
      "Processing HWW_003 (run 1 / 1)... done.\n",
      "Processing HWW_006 (run 1 / 1)... done.\n",
      "Processing HWW_010 (run 1 / 1)... done.\n"
     ]
    }
   ],
   "source": [
    "directory = glob.glob('/home/lukas/DecodingEmotions_main/Self/*/*.feat')\n",
    "mask = '/home/lukas/Dropbox/PhD_projects/DynamicAffect_Multiscale/ROIs/GrayMatter.nii.gz'\n",
    "\n",
    "for d in directory:\n",
    "    test = Subject(d, mask_threshold=10, beta2tstat=True, ref_space='epi', mask_path=mask, remove_class=[], cleanup=True)\n",
    "    test.glm2mvp().merge_runs()\n",
    "\n",
    "directory = glob.glob('/home/lukas/DecodingEmotions_main/Other/*/*.feat')\n",
    "for d in directory:\n",
    "    test = Subject(d, mask_threshold=10, beta2tstat=True, ref_space='epi', mask_path=mask, remove_class=['cue'], cleanup=True)\n",
    "    test.glm2mvp().merge_runs()\n"
   ]
  },
  {
   "cell_type": "markdown",
   "metadata": {},
   "source": [
    "### Testing pipelines\n",
    "First, we'll load in the data."
   ]
  },
  {
   "cell_type": "code",
   "execution_count": 4,
   "metadata": {
    "collapsed": false
   },
   "outputs": [],
   "source": [
    "directory = '/home/lukas/DecodingEmotions_main/Self'\n",
    "loader = DataHandler(identifier='merged', shape='2D')\n",
    "test = loader.load_averaged_subs(directory)"
   ]
  },
  {
   "cell_type": "code",
   "execution_count": null,
   "metadata": {
    "collapsed": false
   },
   "outputs": [],
   "source": []
  },
  {
   "cell_type": "code",
   "execution_count": null,
   "metadata": {
    "collapsed": false
   },
   "outputs": [],
   "source": []
  },
  {
   "cell_type": "code",
   "execution_count": null,
   "metadata": {
    "collapsed": false
   },
   "outputs": [],
   "source": []
  }
 ],
 "metadata": {
  "kernelspec": {
   "display_name": "Python 2",
   "language": "python",
   "name": "python2"
  },
  "language_info": {
   "codemirror_mode": {
    "name": "ipython",
    "version": 2
   },
   "file_extension": ".py",
   "mimetype": "text/x-python",
   "name": "python",
   "nbconvert_exporter": "python",
   "pygments_lexer": "ipython2",
   "version": "2.7.11"
  }
 },
 "nbformat": 4,
 "nbformat_minor": 0
}
